{
 "cells": [
  {
   "cell_type": "markdown",
   "metadata": {},
   "source": [
    "### Define Object Oriented Programming Language?\n",
    "###### Ans : An object-oriented programming language (OOPL) is a high-level programming language based on the object-oriented model. To perform object-oriented programming, one needs an object-oriented programming language.  Many modern programming languages are object-oriented, however some older programming languages, such as Pascal, do offer object-oriented versions. Examples of object-oriented programming languages include Java, C++ and Smalltalk. Object-oriented programming (OOP) refers to a type of computer programming (software design) in which programmers define the data type of a data structure, and also the types of operations (functions) that can be applied to the data structure.In this way, the data structure becomes an object that includes both data and functions. In addition, programmers can create relationships between one object and another. For example, objects can inherit characteristics from other objects.\n",
    "### The Basic OOP Concepts :\n",
    "###### Object-oriented programming languages have few basics. The following Webopedia definitions will help you better understand object-oriented programming :\n",
    "#### Inheritance:\n",
    "###### A feature that represents the \"is a\" relationship between different classes\n",
    "#### Encapsulation: \n",
    "###### The process of combining elements to create a new entity. A procedure is a type of encapsulation because it combines a series of computer instructions.\n",
    "#### Polymorphism:\n",
    "###### A programming language's ability to process objects differently depending on their data type or class.\n",
    "#### Abstraction:\n",
    "###### The process of picking out (abstracting) common features of objects and procedures\n",
    "\n",
    "\n",
    "\n"
   ]
  },
  {
   "cell_type": "markdown",
   "metadata": {},
   "source": [
    "### Question 2:\n",
    "#### List down the Benefits of OOP?\n",
    "##### 1.One of the principal benefits of object-oriented programming techniques over procedural programming techniques is that they enable programmers to create modules that do not need to be changed when a new type of object is added.\n",
    "###### 2.A programmer can simply create a new object that inherits many of its features from existing objects. This makes object-oriented programs easier to modify\n",
    "###### 3.It makes software easier to maintain. Since the design is modular, part of the system can be updated in case of issues without a need to make large-scale changes\n",
    "###### 4.Reuse also enables faster development. Object-oriented programming languages come with rich libraries of objects, and code developed during projects is also reusable in future projects\n",
    "\n",
    "\n",
    "\n"
   ]
  },
  {
   "cell_type": "markdown",
   "metadata": {},
   "source": [
    "### Question 3:\n",
    "#### Differentiate between function and method?\n",
    "##### Ans : Function\n",
    "##### A function is a piece of code that is called by name. It can be passed data to operate on (i.e. the parameters) and can optionally return data (the return value). All data that is passed to a function is explicitly passed.\n",
    "##### Method : A method is a piece of code that is called by a name that is associated with an object. In most respects it is identical to a function except for two key differences:\n",
    "###### 1. A method is implicitly passed the object on which it was called.\n",
    "###### 2. A method is able to operate on data that is contained within the class (remembering that an object is an instance of a class - the class is the definition, the object is an instance of that data)\n",
    "\n",
    "\\\n"
   ]
  },
  {
   "cell_type": "markdown",
   "metadata": {},
   "source": [
    "#### Define the following terms:\n",
    "#### 1. Class\n",
    "#### 2. Object\n",
    "#### 3. Attribute\n",
    "#### 4. Behavior \n",
    "###### Ans : Class :\n",
    "###### A class is a code template for creating objects. Objects have member variables and have behaviour associated with them. In python a class is created by the keyword class.An object is created using the constructor of the class. This object will then be called the instance of the class. In Python we create instances in the following manner \n",
    "###### Instance = class(arguments)\n",
    "###### Object : \n",
    "###### Like function definitions begin with the keyword def, in Python, we define a class using the keyword class.The first string is called docstring and has a brief description about the class. Although not mandatory, this is recommended.A class creates a new local namespace where all its attributes are defined. Attributes may be data or functions.There are also special attributes in it that begins with double underscores (_). For example, __doc_ gives us the docstring of that class.\n",
    "###### Attribute : \n",
    "###### In Object-oriented programming(OOP), classes and objects have attributes. Attributes are data stored inside a class or instance and represent the state or quality of the class or instance. In short, attributes store information about the instance. Also, attributes should not be confused with class functions also known as methods. One can think of attributes as noun or adjective, while methods e.are the verb of the class.\n",
    "###### Behavious : \n",
    "###### The behavior of an object is defined by its methods, which are the functions and subroutines defined within the object class. Without class methods, a class would simply be a structure\n"
   ]
  },
  {
   "cell_type": "code",
   "execution_count": null,
   "metadata": {},
   "outputs": [],
   "source": []
  }
 ],
 "metadata": {
  "kernelspec": {
   "display_name": "Python 3",
   "language": "python",
   "name": "python3"
  },
  "language_info": {
   "codemirror_mode": {
    "name": "ipython",
    "version": 3
   },
   "file_extension": ".py",
   "mimetype": "text/x-python",
   "name": "python",
   "nbconvert_exporter": "python",
   "pygments_lexer": "ipython3",
   "version": "3.7.4"
  }
 },
 "nbformat": 4,
 "nbformat_minor": 2
}
