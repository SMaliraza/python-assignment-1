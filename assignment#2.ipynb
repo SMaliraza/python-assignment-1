{
 "cells": [
  {
   "cell_type": "code",
   "execution_count": 6,
   "metadata": {},
   "outputs": [
    {
     "name": "stdout",
     "output_type": "stream",
     "text": [
      "enter your chemistry marks : 64\n",
      "enter your physics marks : 55\n",
      "enter your mathmatics marks : 92\n",
      "enter your english marks : 88\n",
      "enter your urdu marks : 68\n",
      "Grade A\n"
     ]
    }
   ],
   "source": [
    "chem = int(input(\"enter your chemistry marks : \"))\n",
    "phy = int(input(\"enter your physics marks : \"))\n",
    "maths = int(input(\"enter your mathmatics marks : \"))\n",
    "eng = int(input(\"enter your english marks : \"))\n",
    "urdu = int(input(\"enter your urdu marks : \"))\n",
    "per= (chem+phy+maths+eng+urdu)/5\n",
    "if  per>= 90 and per <=100 :\n",
    "    print (\"Grade : A*\")\n",
    "elif  per >=80 :\n",
    "       print(\"Grade A+\")  \n",
    "elif per >=70 :\n",
    "      print(\"Grade A\") \n",
    "elif per >= 60 :\n",
    "       print(\"Grade B\")\n",
    "elif per >=50 :\n",
    "      print(\"Grade C\")\n",
    "elif per >=0 and per < 50 :\n",
    "       print(\"You Fail \")"
   ]
  },
  {
   "cell_type": "code",
   "execution_count": 14,
   "metadata": {},
   "outputs": [
    {
     "name": "stdout",
     "output_type": "stream",
     "text": [
      "enter a number : 17\n",
      "its odd\n"
     ]
    }
   ],
   "source": [
    "num = int(input(\"enter a number : \"))\n",
    "mod = num % 2\n",
    "if mod > 0:\n",
    "    print(\"its odd\")\n",
    "else:\n",
    "    print(\"its even \")"
   ]
  },
  {
   "cell_type": "code",
   "execution_count": 26,
   "metadata": {},
   "outputs": [
    {
     "name": "stdout",
     "output_type": "stream",
     "text": [
      "7\n"
     ]
    }
   ],
   "source": [
    "LIST = [0, 1, 2, 3,  'Four' , True,0.5] \n",
    "print(len(LIST))"
   ]
  },
  {
   "cell_type": "markdown",
   "metadata": {},
   "source": []
  },
  {
   "cell_type": "code",
   "execution_count": 28,
   "metadata": {},
   "outputs": [
    {
     "data": {
      "text/plain": [
       "77"
      ]
     },
     "execution_count": 28,
     "metadata": {},
     "output_type": "execute_result"
    }
   ],
   "source": [
    "list_1 = [33,4,5,2,33]\n",
    "sum(list_1)"
   ]
  },
  {
   "cell_type": "code",
   "execution_count": 36,
   "metadata": {},
   "outputs": [
    {
     "data": {
      "text/plain": [
       "98"
      ]
     },
     "execution_count": 36,
     "metadata": {},
     "output_type": "execute_result"
    }
   ],
   "source": [
    "list_2 = [65,98,6,45,3,90]\n",
    "max(list_2)"
   ]
  },
  {
   "cell_type": "code",
   "execution_count": 40,
   "metadata": {},
   "outputs": [
    {
     "data": {
      "text/plain": [
       "[1, 1, 2, 3, 5]"
      ]
     },
     "execution_count": 40,
     "metadata": {},
     "output_type": "execute_result"
    }
   ],
   "source": [
    "a = [1, 1, 2, 3, 5, 8, 13, 21, 34, 55, 89]\n",
    "a[:5]"
   ]
  }
 ],
 "metadata": {
  "kernelspec": {
   "display_name": "Python 3",
   "language": "python",
   "name": "python3"
  },
  "language_info": {
   "codemirror_mode": {
    "name": "ipython",
    "version": 3
   },
   "file_extension": ".py",
   "mimetype": "text/x-python",
   "name": "python",
   "nbconvert_exporter": "python",
   "pygments_lexer": "ipython3",
   "version": "3.7.4"
  }
 },
 "nbformat": 4,
 "nbformat_minor": 2
}
