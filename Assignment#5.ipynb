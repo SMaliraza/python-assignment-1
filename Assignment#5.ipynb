{
 "cells": [
  {
   "cell_type": "code",
   "execution_count": 3,
   "metadata": {},
   "outputs": [
    {
     "name": "stdout",
     "output_type": "stream",
     "text": [
      "Input a number the output will be its factorial : 5\n",
      "120\n"
     ]
    }
   ],
   "source": [
    "#python program to print  the input number factorial\n",
    "def fact(n):\n",
    "    if n == 0:\n",
    "        return 1\n",
    "    else:\n",
    "        return n * fact(n-1)\n",
    "n=int(input(\"Input a number the output will be its factorial : \"))\n",
    "print(fact(n))"
   ]
  },
  {
   "cell_type": "code",
   "execution_count": 46,
   "metadata": {},
   "outputs": [
    {
     "name": "stdout",
     "output_type": "stream",
     "text": [
      "My String:  Hello From The Other side\n",
      "No. of Upper case characters :  4\n",
      "No. of Lower case Characters :  17\n"
     ]
    }
   ],
   "source": [
    "#python program to function that accepts a string and calculate the number of uppercase letters and lower case letters.\n",
    "\n",
    "def my_string(s):\n",
    "    d={\"UPPER_CASE\":0, \"LOWER_CASE\":0}\n",
    "    for a in s:\n",
    "        if a.isupper():\n",
    "            d[\"UPPER_CASE\"]+=1\n",
    "        elif a.islower():\n",
    "            d[\"LOWER_CASE\"]+=1\n",
    "        else:\n",
    "            pass\n",
    "    print (\"My String: \", s)\n",
    "    print (\"No. of Upper case characters : \", d[\"UPPER_CASE\"])\n",
    "    print (\"No. of Lower case Characters : \", d[\"LOWER_CASE\"])\n",
    "\n",
    "my_string('Hello From The Other side')"
   ]
  },
  {
   "cell_type": "code",
   "execution_count": 43,
   "metadata": {},
   "outputs": [
    {
     "name": "stdout",
     "output_type": "stream",
     "text": [
      "The Even Numbers are:\n",
      "4 10 12 14 16 18 "
     ]
    }
   ],
   "source": [
    "def even_num():\n",
    "    list=[4,5,7,9,10,12,13,14,16,18,19,21]\n",
    "    print(\"The Even Numbers are:\")\n",
    "    for num in list:\n",
    "        if num % 2 == 0:\n",
    "            print(num, end= \" \")\n",
    "even_num()"
   ]
  },
  {
   "cell_type": "code",
   "execution_count": 52,
   "metadata": {},
   "outputs": [
    {
     "name": "stdout",
     "output_type": "stream",
     "text": [
      "The string is a palindrome.\n"
     ]
    }
   ],
   "source": [
    "def palindrome(word):\n",
    "    word = word.casefold()\n",
    "    rev_word = reversed(word)\n",
    "    if list(word) == list(rev_word):\n",
    "        print(\"The string is a palindrome.\")\n",
    "    else:\n",
    "        print(\"The string is not a palindrome.\")\n",
    "palindrome('madam')"
   ]
  },
  {
   "cell_type": "code",
   "execution_count": 54,
   "metadata": {},
   "outputs": [
    {
     "name": "stdout",
     "output_type": "stream",
     "text": [
      "False\n"
     ]
    }
   ],
   "source": [
    "def prime_num(n):\n",
    "    if (n==1):\n",
    "        return False\n",
    "    elif (n==2):\n",
    "        return True;\n",
    "    else:\n",
    "        for x in range(2,n):\n",
    "            if(n % x==0):\n",
    "                return False\n",
    "        return True             \n",
    "print(prime_num(14))"
   ]
  },
  {
   "cell_type": "code",
   "execution_count": 59,
   "metadata": {},
   "outputs": [
    {
     "name": "stdout",
     "output_type": "stream",
     "text": [
      "customer shopping includes : \n",
      "strawberries\n",
      "soap\n",
      "oil\n",
      "shampoo\n"
     ]
    }
   ],
   "source": [
    "def shopping( *perameter):\n",
    "    print(\"customer shopping includes : \")\n",
    "    for param in perameter:\n",
    "        print(param)\n",
    "shopping(\"strawberries\",\"soap\",\"oil\",\"shampoo\")"
   ]
  },
  {
   "cell_type": "code",
   "execution_count": null,
   "metadata": {},
   "outputs": [],
   "source": []
  }
 ],
 "metadata": {
  "kernelspec": {
   "display_name": "Python 3",
   "language": "python",
   "name": "python3"
  },
  "language_info": {
   "codemirror_mode": {
    "name": "ipython",
    "version": 3
   },
   "file_extension": ".py",
   "mimetype": "text/x-python",
   "name": "python",
   "nbconvert_exporter": "python",
   "pygments_lexer": "ipython3",
   "version": "3.7.4"
  }
 },
 "nbformat": 4,
 "nbformat_minor": 2
}
