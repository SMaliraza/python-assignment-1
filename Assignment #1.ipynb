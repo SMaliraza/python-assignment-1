{
 "cells": [
  {
   "cell_type": "code",
   "execution_count": 20,
   "metadata": {},
   "outputs": [
    {
     "name": "stdout",
     "output_type": "stream",
     "text": [
      "Twinkle, twinkle, little star, \n",
      "              How I wonder what you are!\n",
      "                          Up above the world so high, \n",
      "                          Like a diamond in the sky.\n",
      " Twinkle, twinkle, little star, \n",
      "              How I wonder what you are\n"
     ]
    }
   ],
   "source": [
    "a = \"Twinkle, twinkle, little star, \\n              How I wonder what you are!\\n                          Up above the world so high, \\n                          Like a diamond in the sky.\\n Twinkle, twinkle, little star, \\n              How I wonder what you are\"\n",
    "print (a)"
   ]
  },
  {
   "cell_type": "code",
   "execution_count": 22,
   "metadata": {},
   "outputs": [
    {
     "name": "stdout",
     "output_type": "stream",
     "text": [
      "Python Version 3.0\n"
     ]
    }
   ],
   "source": [
    "ver = \"Python Version 3.0\"\n",
    "print (ver)"
   ]
  },
  {
   "cell_type": "code",
   "execution_count": 23,
   "metadata": {},
   "outputs": [
    {
     "name": "stdout",
     "output_type": "stream",
     "text": [
      "Current time :  Tue Nov  5 01:09:19 2019\n"
     ]
    }
   ],
   "source": [
    "import time\n",
    "local_time = time.asctime(time.localtime(time.time()))\n",
    "print (\"Current time : \" ,local_time)"
   ]
  },
  {
   "cell_type": "code",
   "execution_count": 24,
   "metadata": {},
   "outputs": [
    {
     "name": "stdout",
     "output_type": "stream",
     "text": [
      "Area of circle :  50.26548245743669\n"
     ]
    }
   ],
   "source": [
    "import math\n",
    "radius = 4 \n",
    "area = math.pi * math.pow(radius, 2)\n",
    "print (\"Area of circle : \" , area)"
   ]
  },
  {
   "cell_type": "code",
   "execution_count": 25,
   "metadata": {},
   "outputs": [
    {
     "name": "stdout",
     "output_type": "stream",
     "text": [
      "hello Raza ali\n"
     ]
    }
   ],
   "source": [
    "f_name = \"ali\"\n",
    "l_name =\"Raza\"\n",
    "print (\"hello\" , l_name, f_name)"
   ]
  },
  {
   "cell_type": "code",
   "execution_count": 26,
   "metadata": {},
   "outputs": [
    {
     "name": "stdout",
     "output_type": "stream",
     "text": [
      "4\n",
      "6\n",
      "10\n"
     ]
    }
   ],
   "source": [
    "x = int(input())\n",
    "y = int(input())\n",
    "c = (x + y)\n",
    "print(c)"
   ]
  },
  {
   "cell_type": "code",
   "execution_count": null,
   "metadata": {},
   "outputs": [],
   "source": []
  }
 ],
 "metadata": {
  "kernelspec": {
   "display_name": "Python 3",
   "language": "python",
   "name": "python3"
  },
  "language_info": {
   "codemirror_mode": {
    "name": "ipython",
    "version": 3
   },
   "file_extension": ".py",
   "mimetype": "text/x-python",
   "name": "python",
   "nbconvert_exporter": "python",
   "pygments_lexer": "ipython3",
   "version": "3.7.4"
  }
 },
 "nbformat": 4,
 "nbformat_minor": 2
}
