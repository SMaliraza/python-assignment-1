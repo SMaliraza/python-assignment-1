{
 "cells": [
  {
   "cell_type": "code",
   "execution_count": 66,
   "metadata": {},
   "outputs": [
    {
     "name": "stdout",
     "output_type": "stream",
     "text": [
      "Enter your first value10\n",
      "Enter your second value9\n",
      "Enter operator/\n",
      "1.1111111111111112  Answer\n"
     ]
    }
   ],
   "source": [
    "val1 = int(input(\"Enter your first value\"))\n",
    "val2 = int(input(\"Enter your second value\"))\n",
    "operator = input(\"Enter operator\")\n",
    "\n",
    "if operator == \"+\":\n",
    "    val = val1 + val2\n",
    "    print(val , 'Answer')\n",
    "elif operator ==\"-\":\n",
    "    val = val1 - val2 \n",
    "    print(val , 'Answer')\n",
    "elif operator ==\"*\":\n",
    "    val = val1 * val2\n",
    "    print(val ,' Answer')\n",
    "elif operator ==\"/\":\n",
    "    val = val1 / val2\n",
    "    print(val ,' Answer')\n",
    "elif operator ==\"**\":\n",
    "    val = val1 ** val2\n",
    "    print(val , 'Answer')\n",
    "else:\n",
    "        print('Enter Correct Operator')\n",
    "        \n",
    "    "
   ]
  },
  {
   "cell_type": "code",
   "execution_count": 80,
   "metadata": {},
   "outputs": [
    {
     "name": "stdout",
     "output_type": "stream",
     "text": [
      "go to hell\n",
      "go to hell\n",
      "there is a numeric value\n",
      "go to hell\n",
      "go to hell\n"
     ]
    }
   ],
   "source": [
    "list = [\"ali\",\"zain\",54,\"dell\",\"hello jee\"]\n",
    "for x in list :\n",
    "    if type(x) == int :\n",
    "        print(\"there is a numeric value\")\n",
    "    else:\n",
    "        print(\"go to hell\")"
   ]
  },
  {
   "cell_type": "code",
   "execution_count": 84,
   "metadata": {},
   "outputs": [
    {
     "name": "stdout",
     "output_type": "stream",
     "text": [
      "{'ram': '4gb', 'model': 'dell ispiron i5', 'generation': '4th', 'Display': '15.6'}\n"
     ]
    }
   ],
   "source": [
    "pc_specs = {\"ram\": \"4gb\", \"model\" : \"dell ispiron i5\" , \"generation\" : \"4th\"}\n",
    "pc_specs [\"Display\"] =\"15.6\"\n",
    "print (pc_specs)\n"
   ]
  },
  {
   "cell_type": "code",
   "execution_count": 87,
   "metadata": {},
   "outputs": [
    {
     "data": {
      "text/plain": [
       "38"
      ]
     },
     "execution_count": 87,
     "metadata": {},
     "output_type": "execute_result"
    }
   ],
   "source": [
    "dict = {\"toyota\" : 4, \"Honda\" : 22 , \"kia\" : 12}\n",
    "sum(dict.values())"
   ]
  },
  {
   "cell_type": "code",
   "execution_count": 94,
   "metadata": {},
   "outputs": [
    {
     "name": "stdout",
     "output_type": "stream",
     "text": [
      "[3, 9, 12]\n"
     ]
    }
   ],
   "source": [
    "lst = [ 3, 6, 9, 12, 3, 30, 15, 9, 45, 36, 12, 12]\n",
    "dupItems = []\n",
    "uniqItems = {}\n",
    "for x in lst:\n",
    "   if x not in uniqItems:\n",
    "      uniqItems[x] = 1\n",
    "   else:\n",
    "      if uniqItems[x] == 1:\n",
    "         dupItems.append(x)\n",
    "      uniqItems[x] += 1\n",
    "print(dupItems)"
   ]
  },
  {
   "cell_type": "code",
   "execution_count": 96,
   "metadata": {},
   "outputs": [
    {
     "name": "stdout",
     "output_type": "stream",
     "text": [
      "enter the key  ghi\n",
      "key is present\n",
      "9\n"
     ]
    }
   ],
   "source": [
    "prg = {\"abc\" : 4 , \"def\" : 7, \"ghi\" : 9}\n",
    "key = input (\"enter the key \")\n",
    "if key in prg.keys():\n",
    "    print(\"key is present\")\n",
    "    print(prg[key])"
   ]
  },
  {
   "cell_type": "code",
   "execution_count": null,
   "metadata": {},
   "outputs": [],
   "source": []
  }
 ],
 "metadata": {
  "kernelspec": {
   "display_name": "Python 3",
   "language": "python",
   "name": "python3"
  },
  "language_info": {
   "codemirror_mode": {
    "name": "ipython",
    "version": 3
   },
   "file_extension": ".py",
   "mimetype": "text/x-python",
   "name": "python",
   "nbconvert_exporter": "python",
   "pygments_lexer": "ipython3",
   "version": "3.7.4"
  }
 },
 "nbformat": 4,
 "nbformat_minor": 2
}
